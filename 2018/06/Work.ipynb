{
 "cells": [
  {
   "cell_type": "markdown",
   "metadata": {},
   "source": [
    "## Imports"
   ]
  },
  {
   "cell_type": "code",
   "execution_count": 1,
   "metadata": {},
   "outputs": [],
   "source": [
    "from dataclasses import dataclass\n",
    "from typing import List, Set\n",
    "import unittest"
   ]
  },
  {
   "cell_type": "markdown",
   "metadata": {},
   "source": [
    "## Point Dataclass"
   ]
  },
  {
   "cell_type": "code",
   "execution_count": 7,
   "metadata": {},
   "outputs": [],
   "source": [
    "@dataclass(frozen=True)\n",
    "class Point:\n",
    "    x: int\n",
    "    y: int"
   ]
  },
  {
   "cell_type": "markdown",
   "metadata": {},
   "source": [
    "## Read Input File"
   ]
  },
  {
   "cell_type": "code",
   "execution_count": 3,
   "metadata": {},
   "outputs": [],
   "source": [
    "def read_input(fname: str) -> List[Point]:\n",
    "    results: List[Point] = []\n",
    "    with open(fname, \"r\") as f:\n",
    "        for line in f:\n",
    "            pair = [int(string) for string in line.split(\",\")]\n",
    "            results.append(Point(*pair))\n",
    "\n",
    "    return results"
   ]
  },
  {
   "cell_type": "markdown",
   "metadata": {},
   "source": [
    "## Load in Test Input"
   ]
  },
  {
   "cell_type": "code",
   "execution_count": 4,
   "metadata": {},
   "outputs": [],
   "source": [
    "points = read_input(\"test_input.txt\")"
   ]
  },
  {
   "cell_type": "markdown",
   "metadata": {},
   "source": [
    "## Define Canvas of Points"
   ]
  },
  {
   "cell_type": "code",
   "execution_count": 8,
   "metadata": {},
   "outputs": [],
   "source": [
    "def define_canvas(min_x: int, min_y: int, max_x: int, max_y: int) -> Set[Point]:\n",
    "    return set(Point(x, y) for x in range(min_x, max_x + 1) for y in range(min_y, max_y + 1))"
   ]
  },
  {
   "cell_type": "markdown",
   "metadata": {},
   "source": [
    "## Part 1\n",
    "\n",
    "Get the outer limits of the coordinates to create the canvas of points"
   ]
  },
  {
   "cell_type": "code",
   "execution_count": 9,
   "metadata": {},
   "outputs": [],
   "source": [
    "max_x: int = max(pt.x for pt in points)\n",
    "min_x: int = min(pt.x for pt in points)\n",
    "max_y: int = max(pt.y for pt in points)\n",
    "min_y: int = min(pt.y for pt in points)\n",
    "    \n",
    "canvas = define_canvas(min_x, min_y, max_x, max_y)"
   ]
  },
  {
   "cell_type": "code",
   "execution_count": 10,
   "metadata": {},
   "outputs": [
    {
     "data": {
      "text/plain": [
       "{Point(x=1, y=1),\n",
       " Point(x=1, y=2),\n",
       " Point(x=1, y=3),\n",
       " Point(x=1, y=4),\n",
       " Point(x=1, y=5),\n",
       " Point(x=1, y=6),\n",
       " Point(x=1, y=7),\n",
       " Point(x=1, y=8),\n",
       " Point(x=1, y=9),\n",
       " Point(x=2, y=1),\n",
       " Point(x=2, y=2),\n",
       " Point(x=2, y=3),\n",
       " Point(x=2, y=4),\n",
       " Point(x=2, y=5),\n",
       " Point(x=2, y=6),\n",
       " Point(x=2, y=7),\n",
       " Point(x=2, y=8),\n",
       " Point(x=2, y=9),\n",
       " Point(x=3, y=1),\n",
       " Point(x=3, y=2),\n",
       " Point(x=3, y=3),\n",
       " Point(x=3, y=4),\n",
       " Point(x=3, y=5),\n",
       " Point(x=3, y=6),\n",
       " Point(x=3, y=7),\n",
       " Point(x=3, y=8),\n",
       " Point(x=3, y=9),\n",
       " Point(x=4, y=1),\n",
       " Point(x=4, y=2),\n",
       " Point(x=4, y=3),\n",
       " Point(x=4, y=4),\n",
       " Point(x=4, y=5),\n",
       " Point(x=4, y=6),\n",
       " Point(x=4, y=7),\n",
       " Point(x=4, y=8),\n",
       " Point(x=4, y=9),\n",
       " Point(x=5, y=1),\n",
       " Point(x=5, y=2),\n",
       " Point(x=5, y=3),\n",
       " Point(x=5, y=4),\n",
       " Point(x=5, y=5),\n",
       " Point(x=5, y=6),\n",
       " Point(x=5, y=7),\n",
       " Point(x=5, y=8),\n",
       " Point(x=5, y=9),\n",
       " Point(x=6, y=1),\n",
       " Point(x=6, y=2),\n",
       " Point(x=6, y=3),\n",
       " Point(x=6, y=4),\n",
       " Point(x=6, y=5),\n",
       " Point(x=6, y=6),\n",
       " Point(x=6, y=7),\n",
       " Point(x=6, y=8),\n",
       " Point(x=6, y=9),\n",
       " Point(x=7, y=1),\n",
       " Point(x=7, y=2),\n",
       " Point(x=7, y=3),\n",
       " Point(x=7, y=4),\n",
       " Point(x=7, y=5),\n",
       " Point(x=7, y=6),\n",
       " Point(x=7, y=7),\n",
       " Point(x=7, y=8),\n",
       " Point(x=7, y=9),\n",
       " Point(x=8, y=1),\n",
       " Point(x=8, y=2),\n",
       " Point(x=8, y=3),\n",
       " Point(x=8, y=4),\n",
       " Point(x=8, y=5),\n",
       " Point(x=8, y=6),\n",
       " Point(x=8, y=7),\n",
       " Point(x=8, y=8),\n",
       " Point(x=8, y=9)}"
      ]
     },
     "execution_count": 10,
     "metadata": {},
     "output_type": "execute_result"
    }
   ],
   "source": [
    "canvas"
   ]
  },
  {
   "cell_type": "code",
   "execution_count": null,
   "metadata": {},
   "outputs": [],
   "source": []
  }
 ],
 "metadata": {
  "kernelspec": {
   "display_name": "Python 3",
   "language": "python",
   "name": "python3"
  },
  "language_info": {
   "codemirror_mode": {
    "name": "ipython",
    "version": 3
   },
   "file_extension": ".py",
   "mimetype": "text/x-python",
   "name": "python",
   "nbconvert_exporter": "python",
   "pygments_lexer": "ipython3",
   "version": "3.7.2"
  }
 },
 "nbformat": 4,
 "nbformat_minor": 2
}
